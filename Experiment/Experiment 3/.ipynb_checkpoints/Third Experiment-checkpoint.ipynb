{
 "cells": [
  {
   "cell_type": "code",
   "execution_count": 1,
   "metadata": {},
   "outputs": [],
   "source": [
    "import os\n",
    "import cv2\n",
    "import sys\n",
    "import numpy as np\n",
    "from xml.dom import minidom\n",
    "import time\n",
    "\n",
    "SPOTIFIER_ROOT = os.path.abspath(\"../../\")\n",
    "SPOTIFIER_SERVER_ROOT = os.path.join(SPOTIFIER_ROOT, \"Spotifier Server\")\n",
    "DARKFLOW_PATH = os.path.abspath(\"../../../darkflow\")\n",
    "sys.path.append(SPOTIFIER_ROOT)\n",
    "sys.path.append(SPOTIFIER_SERVER_ROOT)\n",
    "sys.path.append(DARKFLOW_PATH)"
   ]
  },
  {
   "cell_type": "code",
   "execution_count": 2,
   "metadata": {},
   "outputs": [],
   "source": [
    "from Flow.pixel_extracter import PixelExtracter\n",
    "from Flow.representation import Representation\n",
    "from Flow.backbone_detector import BackboneDetector\n",
    "from Flow.occlusion_detector import OcclusionDetector\n",
    "from Flow.processor import Processor\n",
    "from Flow.controller import Controller\n",
    "from Helper.helper import *"
   ]
  },
  {
   "cell_type": "code",
   "execution_count": 3,
   "metadata": {},
   "outputs": [],
   "source": [
    "#params\n",
    "model_name = \"m2\"                  # Detection model (m2, mAlex, vgg-f)\n",
    "run_data_name = \"Random Name\"      # Name of the execution, the output video and data will use this name\n",
    "saving_fps = 25                    # Frames per second of the output video\n",
    "occ_detection_thres = 0.20         # least acceptable confidence of the occlusion locator\n",
    "occ_handle_arg = True              # Enable/Disable occlusion locator\n",
    "\n",
    "input_video_path = r\"P:\\Dataset\\PDS\\12_Novemeber_snake.mp4\" # Path to the input video"
   ]
  },
  {
   "cell_type": "code",
   "execution_count": 4,
   "metadata": {},
   "outputs": [],
   "source": [
    "# The entire experiment is run by the controller object\n",
    "contorller_obj = Controller(model_name,\n",
    "                            occ_detection_thres,\n",
    "                            SPOTIFIER_SERVER_ROOT,\n",
    "                            track_dict_path = run_data_name+\".dict\")"
   ]
  },
  {
   "cell_type": "markdown",
   "metadata": {},
   "source": [
    "# Experiment execution"
   ]
  },
  {
   "cell_type": "code",
   "execution_count": 5,
   "metadata": {},
   "outputs": [],
   "source": [
    "# This code runs the experiment\n",
    "contorller_obj.sample_run(input_video_path, \n",
    "                          run_data_name+\".mp4\",\n",
    "                          1920, 1080, \n",
    "                          saving_fps,\n",
    "                          occ_handle_flag = occ_handle_arg,\n",
    "                          count_flag = True,\n",
    "                          fract_flag = False,\n",
    "                          all_occ_flag = False,\n",
    "                          ol_occ_flag = False)"
   ]
  }
 ],
 "metadata": {
  "kernelspec": {
   "display_name": "Python 3",
   "language": "python",
   "name": "python3"
  },
  "language_info": {
   "codemirror_mode": {
    "name": "ipython",
    "version": 3
   },
   "file_extension": ".py",
   "mimetype": "text/x-python",
   "name": "python",
   "nbconvert_exporter": "python",
   "pygments_lexer": "ipython3",
   "version": "3.6.5"
  }
 },
 "nbformat": 4,
 "nbformat_minor": 4
}
