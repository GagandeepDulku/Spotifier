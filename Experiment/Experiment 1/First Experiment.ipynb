{
 "cells": [
  {
   "cell_type": "code",
   "execution_count": 1,
   "metadata": {},
   "outputs": [],
   "source": [
    "import sys, os\n",
    "\n",
    "sys.path.append(os.path.abspath(\"..\")) # adding experiment folder to system path (easy import)\n",
    "sys.path.append(os.path.abspath(\"../../Spotifier Server\")) # adding detection server folder to system path (easy import)\n",
    "from Helper.experiment_helper import * # helper methods\n",
    "from Flow.backbone_detector import BackboneDetector"
   ]
  },
  {
   "cell_type": "markdown",
   "metadata": {},
   "source": [
    "# Parmeters "
   ]
  },
  {
   "cell_type": "code",
   "execution_count": 2,
   "metadata": {},
   "outputs": [],
   "source": [
    "SPOTIFIER_ROOT = os.path.abspath(\"../../\")                #Root directory of the spotifier\n",
    "PDS_DATASET_DIR = os.path.abspath(\"../../../Dataset/PDS\") #Root directory that contains all the data and meta data files\n",
    "\n",
    "# Path to the pickle files containing paths of all input images segmented into folds\n",
    "PK_LOT_VAL_FOLD_DICT_PATH = os.path.join(PDS_DATASET_DIR,\"Derived Dataset\", \"K Folded Pickles\",\"Filtered_validation_100_fold.pickle\")\n",
    "CNR_OCC_100_FOLD_DICT_PATH = os.path.join(PDS_DATASET_DIR,\"Derived Dataset\", \"K Folded Pickles\",\"Occlusion_100_fold_cnr.pickle\")\n",
    "\n",
    "# Path to the location of the image datasets\n",
    "CNR_DATASET_DIR = os.path.join(PDS_DATASET_DIR, \"Amato\", \"CNR EXT\")\n",
    "PK_LOT_CSV_PATH = os.path.join(PDS_DATASET_DIR, 'Derived Dataset', 'Pklot_dataset.csv')"
   ]
  },
  {
   "cell_type": "markdown",
   "metadata": {},
   "source": [
    "# Experiment Variable"
   ]
  },
  {
   "cell_type": "code",
   "execution_count": 3,
   "metadata": {},
   "outputs": [],
   "source": [
    "# Exectution variables\n",
    "\n",
    "dataset_var = \"pklot\"  #(cnr or pklot)\n",
    "model_name =  \"mAlex\"  # Keyword for model name, change this string to use different models (mAlex, vgg-f, m2)\n",
    "Run_name =    \"test5\"  # Name of experiment session\n",
    "fold_range =  (0,100)  # Range of folds/segments of datasets to be used in the experiment, start and end (+1) index"
   ]
  },
  {
   "cell_type": "code",
   "execution_count": 4,
   "metadata": {},
   "outputs": [],
   "source": [
    "# Read the experiment data (image path) in the form of dictionary where each key represent one type of whether [Cloudy, Rainy & Sunny] \n",
    "\n",
    "if dataset_var == \"cnr\":\n",
    "    input_image_paths = read_k_fold_dataset(CNR_OCC_100_FOLD_DICT_PATH) # Read all image paths segmeneted into folds for CNR image dataset\n",
    "    dataset_location_path = CNR_DATASET_DIR                             # Location of the all image dateset for CNR\n",
    "else:\n",
    "    input_image_paths = read_k_fold_dataset(PK_LOT_VAL_FOLD_DICT_PATH)  # Read all image paths segmeneted into folds for PKLOT image dataset\n",
    "    dataset_location_path = PDS_DATASET_DIR                             # Location of the all image dateset for PKLOT"
   ]
  },
  {
   "cell_type": "code",
   "execution_count": 5,
   "metadata": {},
   "outputs": [
    {
     "name": "stdout",
     "output_type": "stream",
     "text": [
      "Loading model\n",
      "Model Loaded\n"
     ]
    }
   ],
   "source": [
    "# Detection Model\n",
    "\n",
    "root_dir = os.path.join(SPOTIFIER_ROOT, \"Spotifier Server\")   # Directory where model is located\n",
    "backbone_obj = BackboneDetector(model_name, root_dir)         # Instantiate the object of the detector"
   ]
  },
  {
   "cell_type": "markdown",
   "metadata": {},
   "source": [
    "# Execution"
   ]
  },
  {
   "cell_type": "code",
   "execution_count": 6,
   "metadata": {},
   "outputs": [],
   "source": [
    "for fold_ind in range(fold_range[0], fold_range[1]):\n",
    "    for weather in input_image_paths.keys():\n",
    "        img_path_list = input_image_paths[weather][fold_ind]\n",
    "        name = weather+\"_\"+str(fold_ind+1)\n",
    "        conf_matrix, report,accuracy, y_list, conf_list, mean_backbone_time, total_detect_time = get_validation_conf_matrix_from_fold(img_path_list, backbone_obj, occlusion_fract = None, dataset_img_path = dataset_location_path, banner = name)\n",
    "        write_response_in_file(Run_name, conf_matrix, report, accuracy, y_list, conf_list, mean_backbone_time, total_detect_time, name)"
   ]
  }
 ],
 "metadata": {
  "kernelspec": {
   "display_name": "Python 3",
   "language": "python",
   "name": "python3"
  },
  "language_info": {
   "codemirror_mode": {
    "name": "ipython",
    "version": 3
   },
   "file_extension": ".py",
   "mimetype": "text/x-python",
   "name": "python",
   "nbconvert_exporter": "python",
   "pygments_lexer": "ipython3",
   "version": "3.8.3"
  }
 },
 "nbformat": 4,
 "nbformat_minor": 4
}
