{
 "cells": [
  {
   "cell_type": "code",
   "execution_count": 1,
   "metadata": {},
   "outputs": [],
   "source": [
    "import sys, os\n",
    "\n",
    "sys.path.append(os.path.abspath(\"..\")) # adding experiment folder to system path (easy import)\n",
    "sys.path.append(os.path.abspath(\"../../Spotifier Server\")) # adding detection server folder to system path (easy import)\n",
    "from Helper.experiment_helper import * # helper methods\n",
    "from Flow.backbone_detector import BackboneDetector"
   ]
  },
  {
   "cell_type": "markdown",
   "metadata": {},
   "source": [
    "# Parameters"
   ]
  },
  {
   "cell_type": "code",
   "execution_count": 2,
   "metadata": {},
   "outputs": [],
   "source": [
    "SPOTIFIER_ROOT = os.path.abspath(\"../../\")                #Root directory of the spotifier\n",
    "PDS_DATASET_DIR = os.path.abspath(\"../../../Dataset/PDS\") #Root directory that contains all the data and meta data files\n",
    "\n",
    "# Path to the pickle files containing paths of all input images segmented into folds\n",
    "PK_LOT_VAL_FOLD_DICT_PATH = os.path.join(PDS_DATASET_DIR,\"Derived Dataset\", \"K Folded Pickles\",\"Filtered_validation_100_fold.pickle\")\n",
    "CNR_OCC_100_FOLD_DICT_PATH = os.path.join(PDS_DATASET_DIR,\"Derived Dataset\", \"K Folded Pickles\",\"Occlusion_100_fold_cnr.pickle\")\n",
    "\n",
    "# Path to the location of the image datasets\n",
    "CNR_DATASET_DIR = os.path.join(PDS_DATASET_DIR, \"Amato\", \"CNR EXT\")\n",
    "PK_LOT_CSV_PATH = os.path.join(PDS_DATASET_DIR, 'Derived Dataset', 'Pklot_dataset.csv')"
   ]
  },
  {
   "cell_type": "markdown",
   "metadata": {},
   "source": [
    "# Experiment Variables"
   ]
  },
  {
   "cell_type": "code",
   "execution_count": 3,
   "metadata": {},
   "outputs": [],
   "source": [
    "# Exectution variables\n",
    "\n",
    "model_name =  \"m2\"  # Keyword for model name, change this string to use different models (mAlex, vgg-f, m2)\n",
    "Run_name =    \"test\"  # Name of experiment session\n",
    "\n",
    "result_dir =  Run_name # Directory wher all the execution variable will be stored\n",
    "fold_range =  (0,10)  # Range of folds/segments of datasets to be used in the experiment, start and end (+1) index"
   ]
  },
  {
   "cell_type": "code",
   "execution_count": 4,
   "metadata": {},
   "outputs": [],
   "source": [
    "# Read the experiment data (image path) in the form of dictionary where each key represent one type of whether [Cloudy, Rainy & Sunny] \n",
    "\n",
    "input_image_paths = read_k_fold_dataset(CNR_OCC_100_FOLD_DICT_PATH) # Read all image paths segmeneted into folds for CNR image dataset\n",
    "dataset_location_path = CNR_DATASET_DIR                             # Location of the all image dateset for CNR"
   ]
  },
  {
   "cell_type": "code",
   "execution_count": 5,
   "metadata": {},
   "outputs": [
    {
     "name": "stdout",
     "output_type": "stream",
     "text": [
      "Loading model\n",
      "Model Loaded\n"
     ]
    }
   ],
   "source": [
    "# Detection Model\n",
    "\n",
    "root_dir = os.path.join(SPOTIFIER_ROOT, \"Spotifier Server\")   # Directory where model is located\n",
    "backbone_obj = BackboneDetector(model_name, root_dir)         # Instantiate the object of the detector"
   ]
  },
  {
   "cell_type": "markdown",
   "metadata": {},
   "source": [
    "# Experiment Execution"
   ]
  },
  {
   "cell_type": "code",
   "execution_count": 6,
   "metadata": {},
   "outputs": [],
   "source": [
    "occ_init_point = 0.43         # Starting fraction/percentage of occlusion (it will be fraction of height and width of the original image)\n",
    "occ_increment = 0.01          # Increment in initial occlusion point\n",
    "occlusion_result_dict = {}    # Dictionary to save session meta data\n",
    "\n",
    "for occ_ind in range(50):     # For loop over entire occlusion dataset with fixed size of occlusion box, in next iteration increase the size and repate the process for 50 iterations \n",
    "    positive_list = []        # No of correct detections (meta data)\n",
    "    total_list = []           # Total no of correct detections (meta data)\n",
    "    mean_confidence_list = [] # Mean confidence (meta data)\n",
    "    \n",
    "    occlusion_fraction = occ_init_point + occ_ind*occ_increment               # Occlusion fraction determine size of the occlusion box, it is proportional to the image dimenions\n",
    "    occ_ind_dir = result_dir+\"//\"+str(occ_ind+1)+\"_\"+str(occlusion_fraction)  # Path to the detection output of each occlusion size run that is stored in exclusive directory  \n",
    "    file_name = result_dir+str(round(occlusion_fraction,3))                   \n",
    "    if not os.path.isdir(occ_ind_dir):                                      \n",
    "        os.makedirs(occ_ind_dir)\n",
    "    Run_name = occ_ind_dir+\"//\"+file_name\n",
    "    for fold_ind in range(fold_range[0], fold_range[1]):\n",
    "        for weather in input_image_paths.keys():\n",
    "            img_path_list = input_image_paths[weather][fold_ind][0:2]        # Extract input data and targets from the dictionary\n",
    "            name = weather+\"_\"+str(fold_ind+1)                               # Name to be printed while monitring execution                                                                                                                         \n",
    "            \n",
    "        # Main Detection\n",
    "            conf_matrix, report, accuracy, y_list, conf_list, mean_backbone_time, total_detect_time = get_validation_conf_matrix_from_fold(img_path_list, backbone_obj, occlusion_fract = occlusion_fraction, dataset_img_path = dataset_location_path ,banner = name)\n",
    "        # Saving meta data\n",
    "            positive_list.append(conf_matrix[0,0] + conf_matrix[1,1])\n",
    "            total_list.append(np.sum(conf_matrix))\n",
    "            mean_confidence_list.append(np.mean(conf_list))\n",
    "        # Saving the detection results    \n",
    "            write_response_in_file(Run_name, conf_matrix, report, accuracy, y_list, conf_list, mean_backbone_time, total_detect_time, name)\n",
    "    occlusion_result_dict[occlusion_fraction] = [np.sum(positive_list)/np.sum(total_list), np.mean(mean_confidence_list)]"
   ]
  }
 ],
 "metadata": {
  "kernelspec": {
   "display_name": "Python 3",
   "language": "python",
   "name": "python3"
  },
  "language_info": {
   "codemirror_mode": {
    "name": "ipython",
    "version": 3
   },
   "file_extension": ".py",
   "mimetype": "text/x-python",
   "name": "python",
   "nbconvert_exporter": "python",
   "pygments_lexer": "ipython3",
   "version": "3.8.3"
  }
 },
 "nbformat": 4,
 "nbformat_minor": 4
}
